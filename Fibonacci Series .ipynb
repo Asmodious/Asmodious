{
 "cells": [
  {
   "cell_type": "code",
   "execution_count": 5,
   "id": "65f94c92",
   "metadata": {},
   "outputs": [
    {
     "name": "stdout",
     "output_type": "stream",
     "text": [
      "Enter number upto which the series to be printed5.9\n",
      "pls enetr a postive whole number\n"
     ]
    }
   ],
   "source": [
    "#Fibenocci series\n",
    "\n",
    "## First let's assign variables with initial values\n",
    "a=1\n",
    "b=0\n",
    "\n",
    "\n",
    "##Let's use the try & except metod inorder avoid any decimal inputs\n",
    "\n",
    "try:\n",
    "\n",
    "##lets take the input from the user\n",
    "\n",
    "    n=int(input('Enter number upto which the series to be printed'))\n",
    "\n",
    "##In order to avoid  negative input     \n",
    "    if n<=0:\n",
    "        print(\"Enter a positive integer\")\n",
    "\n",
    "##lets update the values us        \n",
    "    \n",
    "    else:\n",
    "        for i in range (n):\n",
    "            c=a+b\n",
    "            a,b,c=c,a,b\n",
    "            i=c\n",
    "            print(i)\n",
    "\n",
    "except ValueError:\n",
    "    print(\"pls enetr a postive whole number\")\n",
    "    \n"
   ]
  },
  {
   "cell_type": "code",
   "execution_count": null,
   "id": "b81c7c04",
   "metadata": {},
   "outputs": [],
   "source": []
  },
  {
   "cell_type": "code",
   "execution_count": null,
   "id": "4669247a",
   "metadata": {},
   "outputs": [],
   "source": []
  }
 ],
 "metadata": {
  "kernelspec": {
   "display_name": "Python 3 (ipykernel)",
   "language": "python",
   "name": "python3"
  },
  "language_info": {
   "codemirror_mode": {
    "name": "ipython",
    "version": 3
   },
   "file_extension": ".py",
   "mimetype": "text/x-python",
   "name": "python",
   "nbconvert_exporter": "python",
   "pygments_lexer": "ipython3",
   "version": "3.9.12"
  }
 },
 "nbformat": 4,
 "nbformat_minor": 5
}
