{
 "cells": [
  {
   "cell_type": "code",
   "execution_count": 4,
   "id": "2a56feb2",
   "metadata": {},
   "outputs": [
    {
     "name": "stdout",
     "output_type": "stream",
     "text": [
      "Enter the number or word to check whether it is palindrome or not..-989\n",
      "Its not palindrome sequence\n"
     ]
    }
   ],
   "source": [
    "i=input('Enter the number or word to check whether it is palindrome or not..')\n",
    "\n",
    "\n",
    "if i==i[::-1]:\n",
    "    print(' Its a palindrome sequence')\n",
    "else:\n",
    "    print('Its not palindrome sequence')"
   ]
  },
  {
   "cell_type": "code",
   "execution_count": null,
   "id": "5ad9902d",
   "metadata": {},
   "outputs": [],
   "source": []
  },
  {
   "cell_type": "code",
   "execution_count": null,
   "id": "f66aeee3",
   "metadata": {},
   "outputs": [],
   "source": []
  }
 ],
 "metadata": {
  "kernelspec": {
   "display_name": "Python 3 (ipykernel)",
   "language": "python",
   "name": "python3"
  },
  "language_info": {
   "codemirror_mode": {
    "name": "ipython",
    "version": 3
   },
   "file_extension": ".py",
   "mimetype": "text/x-python",
   "name": "python",
   "nbconvert_exporter": "python",
   "pygments_lexer": "ipython3",
   "version": "3.9.12"
  }
 },
 "nbformat": 4,
 "nbformat_minor": 5
}
