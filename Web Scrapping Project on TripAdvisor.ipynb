{
 "cells": [
  {
   "cell_type": "code",
   "execution_count": 26,
   "id": "cf8896c4",
   "metadata": {},
   "outputs": [
    {
     "name": "stdout",
     "output_type": "stream",
     "text": [
      "Enter the required no of bedrooms\n",
      ">3\n",
      "Filtering out the holiday homes having '3' bedrooms\n",
      "\n",
      "Apartment: Amazing penthouse heart of Jumeirah  Beach Walk\n",
      " Location: Condo in The Marina, Jumeirah Beach Residence (JBR)\n",
      " Bedrooms: 3 bedrooms\n",
      "\n",
      "Apartment: XANADUBAI Downtown Apartment with Burj Khalifa view, 3 en-suite Bedroom\n",
      " Location: Condo in Downtown Dubai\n",
      " Bedrooms: 3 bedrooms\n",
      "\n",
      "Apartment: Luxury 3 Bed Apartment in Dubai Marina next to JBR\n",
      " Location: Condo in The Marina\n",
      " Bedrooms: 3 bedrooms\n",
      "\n",
      "Apartment: Maison Privee - Five Villa (40005)\n",
      " Location: Holiday Rental House in Palm Jumeirah\n",
      " Bedrooms: 3 bedrooms\n",
      "\n",
      "Apartment: Maison Privee - Tiara Aqumarine (302)\n",
      " Location: Holiday Rental House in Palm Jumeirah\n",
      " Bedrooms: 3 bedrooms\n",
      "\n",
      "Apartment: FIRST CLASS 1 | 3BR | Burj Khalifa & Fountain view\n",
      " Location: Holiday Rental House in Downtown Dubai\n",
      " Bedrooms: 3 bedrooms\n",
      "\n",
      "Apartment: NEW! Modern 3 -bed with gorgeous wraparound balcony\n",
      " Location: Condo\n",
      " Bedrooms: 3 bedrooms\n",
      "\n"
     ]
    }
   ],
   "source": [
    "#Web Scrappng Tripdvisor Webpage #\n",
    "\n",
    "#Let's import libraries\n",
    "\n",
    "from bs4 import BeautifulSoup\n",
    "import requests\n",
    "\n",
    "\n",
    "print('Enter the required no of bedrooms')\n",
    "required_no_bedrooms=input('>')\n",
    "print(f\"Filtering out the holiday homes having '{required_no_bedrooms}' bedrooms\")\n",
    "\n",
    "print('')\n",
    "\n",
    "try:\n",
    "    source=requests.get('https://www.tripadvisor.in/VacationRentals-g295424-Reviews-Dubai_Emirate_of_Dubai-Vacation_Rentals.html'\n",
    "                    ,headers = {\"User-Agent\": \"Mozilla/5.0 (Windows NT 10.0; Win64; x64)\"})\n",
    "    \n",
    "    source.raise_for_status()\n",
    "    \n",
    "    soup=BeautifulSoup(source.content,'lxml')\n",
    "    \n",
    "    rentals=soup.find_all('div' ,class_=\"zxMUq f\")\n",
    "    \n",
    "    for rental in rentals:\n",
    "        \n",
    "    \n",
    "        apartment=rental.find('h2', class_=\"ToVyw b S7 W o q\").text\n",
    "    \n",
    "        location=rental.find('div', class_=\"biGQs _P pZUbB ncFvv oXJmt\").text.replace('/Apartment','')\n",
    "    \n",
    "        no_of_bedrooms=rental.find('div', class_=\"qkjPI\").text\n",
    "        \n",
    "    \n",
    "    #adding filter to no of bedrooms\n",
    "    \n",
    "        if required_no_bedrooms in no_of_bedrooms:\n",
    "                print(f\"Apartment: {apartment}\\n Location: {location}\\n Bedrooms: {no_of_bedrooms}\")\n",
    "                \n",
    "                print('')\n",
    "    \n",
    "except Exception as e:\n",
    "    print(e)\n"
   ]
  },
  {
   "cell_type": "code",
   "execution_count": null,
   "id": "eff30dbc",
   "metadata": {},
   "outputs": [],
   "source": []
  },
  {
   "cell_type": "code",
   "execution_count": null,
   "id": "73179354",
   "metadata": {},
   "outputs": [],
   "source": []
  }
 ],
 "metadata": {
  "kernelspec": {
   "display_name": "Python 3 (ipykernel)",
   "language": "python",
   "name": "python3"
  },
  "language_info": {
   "codemirror_mode": {
    "name": "ipython",
    "version": 3
   },
   "file_extension": ".py",
   "mimetype": "text/x-python",
   "name": "python",
   "nbconvert_exporter": "python",
   "pygments_lexer": "ipython3",
   "version": "3.9.12"
  }
 },
 "nbformat": 4,
 "nbformat_minor": 5
}
